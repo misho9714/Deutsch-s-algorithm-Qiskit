{
 "cells": [
  {
   "cell_type": "code",
   "execution_count": 12,
   "id": "44166f99",
   "metadata": {},
   "outputs": [
    {
     "name": "stdout",
     "output_type": "stream",
     "text": [
      "                    \n",
      "q_0: ───────■───────\n",
      "     ┌───┐  │  ┌───┐\n",
      "q_1: ┤ X ├──■──┤ X ├\n",
      "     └───┘  │  └───┘\n",
      "q_2: ───────■───────\n",
      "          ┌─┴─┐     \n",
      "q_3: ─────┤ X ├─────\n",
      "          └───┘     \n",
      "          ┌──────────────┐\n",
      "q_0: ─────┤0             ├\n",
      "          │              │\n",
      "q_1: ─────┤1             ├\n",
      "          │  circuit-195 │\n",
      "q_2: ─────┤2             ├\n",
      "     ┌───┐│              │\n",
      "q_3: ┤ X ├┤3             ├\n",
      "     └───┘└──────────────┘\n"
     ]
    }
   ],
   "source": [
    "from qiskit import QuantumCircuit, transpile\n",
    "from qiskit_aer import Aer\n",
    "from qiskit.visualization import plot_histogram\n",
    "\n",
    "from qiskit import QuantumCircuit\n",
    "\n",
    "def make_oracle(f, n):\n",
    "    \"\"\"\n",
    "    Construct an oracle for f: {0,1}^n -> {0,1}\n",
    "    Returns a QuantumCircuit with n input qubits + 1 output qubit.\n",
    "    \"\"\"\n",
    "    qc = QuantumCircuit(n+1)\n",
    "\n",
    "    # Loop through all possible bitstrings\n",
    "    for i in range(2**n):\n",
    "        x = format(i, f'0{n}b')    # binary string of length n\n",
    "        if f(x) == 1:\n",
    "            # Match input |x>\n",
    "            for j, bit in enumerate(reversed(x)):\n",
    "                if bit == '0':\n",
    "                    qc.x(j)\n",
    "            # Apply multi-controlled X on the output qubit\n",
    "            if n == 1:\n",
    "                qc.cx(0, n)\n",
    "            else:\n",
    "                qc.mcx(list(range(n)), n)\n",
    "            # Undo the X preconditioning\n",
    "            for j, bit in enumerate(reversed(x)):\n",
    "                if bit == '0':\n",
    "                    qc.x(j)\n",
    "    return qc\n",
    "\n",
    "def f(x: str) -> int:\n",
    "    # Example: f(x) = 1 if x == '101', else 0\n",
    "    return int(x == \"101\")\n",
    "\n",
    "oracle = make_oracle(f, 3)\n",
    "print(oracle.draw(\"text\"))\n",
    "\n",
    "qc = QuantumCircuit(4)\n",
    "qc.x(3)  # Prepare the output qubit in state |1>\n",
    "\n",
    "qc.append(oracle, range(4))\n",
    "print(qc.draw(\"text\"))\n",
    "\n",
    "\n"
   ]
  },
  {
   "cell_type": "code",
   "execution_count": null,
   "id": "b282f907",
   "metadata": {},
   "outputs": [],
   "source": []
  }
 ],
 "metadata": {
  "kernelspec": {
   "display_name": "Python 3",
   "language": "python",
   "name": "python3"
  },
  "language_info": {
   "codemirror_mode": {
    "name": "ipython",
    "version": 3
   },
   "file_extension": ".py",
   "mimetype": "text/x-python",
   "name": "python",
   "nbconvert_exporter": "python",
   "pygments_lexer": "ipython3",
   "version": "3.11.9"
  }
 },
 "nbformat": 4,
 "nbformat_minor": 5
}
