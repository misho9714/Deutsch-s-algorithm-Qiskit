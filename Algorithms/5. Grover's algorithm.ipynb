{
 "cells": [
  {
   "cell_type": "code",
   "execution_count": 98,
   "id": "44166f99",
   "metadata": {},
   "outputs": [
    {
     "name": "stdout",
     "output_type": "stream",
     "text": [
      "        ┌───┐ ░ ┌─┐   \n",
      "   q_0: ┤ H ├─░─┤M├───\n",
      "        ├───┤ ░ └╥┘┌─┐\n",
      "   q_1: ┤ H ├─░──╫─┤M├\n",
      "        └───┘ ░  ║ └╥┘\n",
      "meas: 2/═════════╩══╩═\n",
      "                 0  1 \n",
      "Counts: {'01': 256, '10': 236, '11': 264, '00': 244}\n"
     ]
    },
    {
     "data": {
      "image/png": "[encoded data removed]",
      "text/plain": [
       "<Figure size 640x480 with 1 Axes>"
      ]
     },
     "execution_count": 98,
     "metadata": {},
     "output_type": "execute_result"
    }
   ],
   "source": [
    "from qiskit import QuantumCircuit, transpile\n",
    "from qiskit_aer import Aer\n",
    "from qiskit.visualization import plot_histogram\n",
    "from math import sin, asin, floor, sqrt, pi\n",
    "from qiskit.quantum_info import Statevector\n",
    "import numpy as np\n",
    "\n",
    "def Z_f(target_strings: list[str], n: int) -> QuantumCircuit:\n",
    "    qc = QuantumCircuit(n, name=\"Z_f\")\n",
    "    for s in target_strings:\n",
    "        if len(s) != n or set(s) - {\"0\",\"1\"}:\n",
    "            raise ValueError(f\"Invalid bitstring: {s}\")\n",
    "\n",
    "    for s in target_strings:\n",
    "        # Mask zeros so |s> -> |11..1>\n",
    "        for i, bit in enumerate(reversed(s)):\n",
    "            if bit == '0':\n",
    "                qc.x(i)\n",
    "\n",
    "        if n == 1:\n",
    "            qc.z(0)                # no H wrappers\n",
    "        elif n == 2:\n",
    "            qc.cz(0, 1)            # no H wrappers\n",
    "        else:\n",
    "            qc.h(n-1)              # H–MCX–H only for n>=3\n",
    "            qc.mcx(list(range(n-1)), n-1)\n",
    "            qc.h(n-1)\n",
    "\n",
    "        # Unmask\n",
    "        for i, bit in enumerate(reversed(s)):\n",
    "            if bit == '0':\n",
    "                qc.x(i)\n",
    "    return qc\n",
    "\n",
    "\n",
    "def Z_or(n: int) -> QuantumCircuit:\n",
    "    \"\"\"\n",
    "    Implements (up to a global phase) the reflection about |0...0>:\n",
    "        R0 = 2|0...0><0...0| - I\n",
    "    i.e., phase -1 on |0...0>, +1 elsewhere.\n",
    "    \"\"\"\n",
    "    qc = QuantumCircuit(n, name=\"Z_or\")\n",
    "    qc.x(range(n))\n",
    "\n",
    "    if n == 1:\n",
    "        qc.z(0)\n",
    "    elif n == 2:\n",
    "        qc.cz(0, 1)\n",
    "    else:\n",
    "        qc.h(n-1)\n",
    "        qc.mcx(list(range(n-1)), n-1)  # controls: 0..n-2, target: n-1\n",
    "        qc.h(n-1)\n",
    "\n",
    "    qc.x(range(n))\n",
    "    return qc\n",
    "\n",
    "def grovers_operation(target_strings: list[str],n: int) -> QuantumCircuit:\n",
    "    qc = QuantumCircuit(n, name=\"Grovers_op\")\n",
    "    qc.append(Z_f(target_strings, n), range(n))\n",
    "    qc.h(range(n))\n",
    "    qc.append(Z_or(n), range(n))\n",
    "    qc.h(range(n))\n",
    "    return qc\n",
    "\n",
    "# Example usage\n",
    "target_strings = [\"10\", \"11\"] \n",
    "\n",
    "n = len(target_strings[0])\n",
    "s = len(target_strings)\n",
    "N = 2 ** n\n",
    "theta = asin(sqrt(s/N))\n",
    "r_est = floor((pi/(4*theta)) - 0.5)\n",
    "P = lambda r: sin((2*r+1)*theta)**2\n",
    "num_iterations = max(0, max([r_est, r_est+1], key=P))\n",
    "\n",
    "qc0 = grovers_operation(target_strings, n)#.to_instruction()\n",
    "qc = QuantumCircuit(n)\n",
    "qc.h(range(n))\n",
    "for i in range(num_iterations):\n",
    "    qc.append(qc0, range(n))\n",
    "qc.measure_all()\n",
    "\n",
    "print(qc.draw(\"text\"))\n",
    "\n",
    "\n",
    "# Run on simulator\n",
    "sim = Aer.get_backend(\"aer_simulator\")\n",
    "tqc = transpile(qc, sim)\n",
    "result = sim.run(tqc, shots = 1000).result()\n",
    "counts = result.get_counts()\n",
    "print(\"Counts:\", counts)\n",
    "plot_histogram(counts, title=\"Example: \"+ \", \".join(target_strings))"
   ]
  },
  {
   "cell_type": "code",
   "execution_count": null,
   "id": "4d8d55ec",
   "metadata": {},
   "outputs": [
    {
     "name": "stdout",
     "output_type": "stream",
     "text": [
      "          \n",
      "q_0: ──■──\n",
      "       │  \n",
      "q_1: ──■──\n",
      "     ┌─┴─┐\n",
      "q_2: ┤ X ├\n",
      "     └───┘\n"
     ]
    }
   ],
   "source": [
    "n=3\n",
    "qc = QuantumCircuit(n)\n",
    "qc.mcx(list(range(n-1)), n-1)\n",
    "print(qc.draw(\"text\"))"
   ]
  },
  {
   "cell_type": "code",
   "execution_count": 95,
   "id": "7fe0ba67",
   "metadata": {},
   "outputs": [
    {
     "data": {
      "text/plain": [
       "[(0, '1'), (1, '4'), (2, '6')]"
      ]
     },
     "execution_count": 95,
     "metadata": {},
     "output_type": "execute_result"
    }
   ],
   "source": [
    "list(enumerate(\"146\"))"
   ]
  },
  {
   "cell_type": "code",
   "execution_count": null,
   "id": "1720a59b",
   "metadata": {},
   "outputs": [],
   "source": []
  }
 ],
 "metadata": {
  "kernelspec": {
   "display_name": "Python 3",
   "language": "python",
   "name": "python3"
  },
  "language_info": {
   "codemirror_mode": {
    "name": "ipython",
    "version": 3
   },
   "file_extension": ".py",
   "mimetype": "text/x-python",
   "name": "python",
   "nbconvert_exporter": "python",
   "pygments_lexer": "ipython3",
   "version": "3.11.9"
  }
 },
 "nbformat": 4,
 "nbformat_minor": 5
}
