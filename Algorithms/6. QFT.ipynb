{
 "cells": [
  {
   "cell_type": "markdown",
   "id": "31a8526c",
   "metadata": {},
   "source": [
    "# Quantum Fourier Transform (QFT)\n",
    "\n",
    "**What is QFT?**  \n",
    "On an $n$-qubit register ($N=2^n$), the QFT is the unitary that performs the discrete Fourier transform on computational basis states:  \n",
    "$$\n",
    "|j\\rangle \\;\\mapsto\\; \\frac{1}{\\sqrt{N}} \\sum_{k=0}^{N-1} e^{2\\pi i\\,jk/N}\\,|k\\rangle,\\quad j\\in\\{0,\\dots,N-1\\}.\n",
    "$$  \n",
    "For a general state $|\\psi\\rangle=\\sum_j x_j|j\\rangle$, it maps amplitudes $(x_j)$ to their DFT. QFT is the backbone of **phase estimation**, **period finding**, and **Shor’s algorithm**. It uses only $O(n^2)$ one- and two-qubit gates.\n",
    "\n",
    "**Key intuition.**  \n",
    "QFT turns “additive structure in the phase” into “peaks in the computational basis.” On basis inputs $|j\\rangle$ it produces equal-magnitude amplitudes ($1/\\sqrt{N}$ each) whose **phases** encode $j$.\n",
    "\n",
    "**Implementation plan (Qiskit, little-endian).**  \n",
    "We factor the DFT matrix into a sequence of simple gates:\n",
    "\n",
    "1. For qubit $k=0,1,\\dots,n-1$:\n",
    "   - Apply a Hadamard $H$ on qubit $k$.\n",
    "   - For every more-significant qubit $j=k+1,\\dots,n-1$, apply a controlled phase rotation  \n",
    "     $$\n",
    "     \\mathrm{CP}\\!\\left(\\frac{\\pi}{2^{\\,j-k}}\\right)\\ \\text{with control } j \\text{ and target } k.\n",
    "     $$\n",
    "\n",
    "2. Reverse the qubit order with $\\lfloor n/2\\rfloor$ **SWAPs** (bit-reversal to match the Fourier output ordering).\n",
    "\n",
    "We will implement:\n",
    "- `qft(n, do_swaps=True)`: builds the QFT as above.\n",
    "- `iqft(n, do_swaps=True)`: exact inverse (reverse order, conjugate phases).\n",
    "- Sanity checks: $\\text{iQFT}\\circ\\text{QFT} \\approx I$, and statevector tests showing uniform magnitudes on $|j\\rangle$ inputs with a phase ramp.\n",
    "\n",
    "**Conventions.**  \n",
    "- **Endianness:** We use Qiskit’s default little-endian ordering (qubit 0 is the least significant bit).  \n",
    "- **Complexity:** Gate count $\\Theta(n^2)$; depth $\\Theta(n)$ ignoring SWAP parallelization.  \n",
    "\n",
    "Next cells: (i) reference implementation of `qft`/`iqft`, (ii) round-trip test, (iii) visualization of QFT acting on $|5\\rangle$ for $n=3$.\n"
   ]
  }
 ],
 "metadata": {
  "language_info": {
   "name": "python"
  }
 },
 "nbformat": 4,
 "nbformat_minor": 5
}
