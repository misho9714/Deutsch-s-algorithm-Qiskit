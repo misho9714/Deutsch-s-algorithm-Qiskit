{
 "cells": [
  {
   "cell_type": "code",
   "execution_count": 23,
   "id": "338f357e",
   "metadata": {},
   "outputs": [
    {
     "name": "stdout",
     "output_type": "stream",
     "text": [
      "                         \n",
      "q_0: ──■────■────────────\n",
      "       │    │            \n",
      "q_1: ──┼────┼────■────■──\n",
      "     ┌─┴─┐  │  ┌─┴─┐  │  \n",
      "q_2: ┤ X ├──┼──┤ X ├──┼──\n",
      "     └───┘┌─┴─┐└───┘┌─┴─┐\n",
      "q_3: ─────┤ X ├─────┤ X ├\n",
      "          └───┘     └───┘\n",
      "     ┌───┐┌──────────────┐┌───┐┌─┐   \n",
      "q_0: ┤ H ├┤0             ├┤ H ├┤M├───\n",
      "     ├───┤│              │├───┤└╥┘┌─┐\n",
      "q_1: ┤ H ├┤1             ├┤ H ├─╫─┤M├\n",
      "     └───┘│  circuit-252 │└───┘ ║ └╥┘\n",
      "q_2: ─────┤2             ├──────╫──╫─\n",
      "          │              │      ║  ║ \n",
      "q_3: ─────┤3             ├──────╫──╫─\n",
      "          └──────────────┘      ║  ║ \n",
      "c: 2/═══════════════════════════╩══╩═\n",
      "                                0  1 \n",
      "Counts: {'11': 53, '00': 47}\n"
     ]
    },
    {
     "data": {
      "image/png": "[encoded data removed]",
      "text/plain": [
       "<Figure size 640x480 with 1 Axes>"
      ]
     },
     "execution_count": 23,
     "metadata": {},
     "output_type": "execute_result"
    }
   ],
   "source": [
    "from qiskit import QuantumCircuit, transpile\n",
    "from qiskit_aer import Aer\n",
    "from qiskit.visualization import plot_histogram\n",
    "\n",
    "# Simon's algorithm circuit\n",
    "def simon_algorithm(oracle):\n",
    "    qc = QuantumCircuit(n + m, n)\n",
    "    qc.h(list(range(n))) # Apply Hadamard gates to first n qubits\n",
    "    qc.append(oracle, range(n + m))  # Apply oracle\n",
    "    qc.h(list(range(n))) # Apply Hadamard gates to first n qubits\n",
    "    qc.measure(range(n), range(n))\n",
    "    return qc\n",
    "\n",
    "def b_matrix_generator(case: str):\n",
    "    if case == \"10\":\n",
    "        return [[0,1],[0,1]]\n",
    "    elif case == \"01\":\n",
    "        return [[1,0],[1,0]]\n",
    "    elif case == \"11\":\n",
    "        return [[1,1],[1,1]]\n",
    "    else:\n",
    "        raise ValueError(\"Only supports secrets s=10, s=01, s=11 in 2x2 case.\")\n",
    "\n",
    "\n",
    "# Simon's oracle generator\n",
    "def simon_oracle(s: str):\n",
    "    qc = QuantumCircuit(n + m)\n",
    "\n",
    "    b_matrix = b_matrix_generator(s)\n",
    "\n",
    "    for i in range(n):\n",
    "        for j in range(m):\n",
    "            if b_matrix[i][j] == 1:\n",
    "                qc.cx(i, n + j)\n",
    "    return qc\n",
    "\n",
    "# Example usage\n",
    "n = 2\n",
    "m = 2\n",
    "case = \"11\"\n",
    "\n",
    "oracle = simon_oracle(case)\n",
    "qc = simon_algorithm(oracle)\n",
    "print(oracle.draw(\"text\"))\n",
    "print(qc.draw(\"text\"))\n",
    "\n",
    "# Run on simulator\n",
    "sim = Aer.get_backend(\"aer_simulator\")\n",
    "tqc = transpile(qc, sim)\n",
    "result = sim.run(tqc, shots = 100).result()\n",
    "counts = result.get_counts()\n",
    "print(\"Counts:\", counts)\n",
    "plot_histogram(counts, title=\"Example: \"+ case)"
   ]
  },
  {
   "cell_type": "code",
   "execution_count": null,
   "id": "6f400d31",
   "metadata": {},
   "outputs": [],
   "source": []
  }
 ],
 "metadata": {
  "kernelspec": {
   "display_name": "Python 3",
   "language": "python",
   "name": "python3"
  },
  "language_info": {
   "codemirror_mode": {
    "name": "ipython",
    "version": 3
   },
   "file_extension": ".py",
   "mimetype": "text/x-python",
   "name": "python",
   "nbconvert_exporter": "python",
   "pygments_lexer": "ipython3",
   "version": "3.11.9"
  }
 },
 "nbformat": 4,
 "nbformat_minor": 5
}
