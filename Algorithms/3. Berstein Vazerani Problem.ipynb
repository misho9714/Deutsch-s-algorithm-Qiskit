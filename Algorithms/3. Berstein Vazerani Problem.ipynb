{
 "cells": [
  {
   "cell_type": "code",
   "execution_count": 2,
   "id": "ec669f1e",
   "metadata": {},
   "outputs": [
    {
     "name": "stdout",
     "output_type": "stream",
     "text": [
      "               \n",
      "q_0: ──────────\n",
      "               \n",
      "q_1: ──■───────\n",
      "       │       \n",
      "q_2: ──┼───────\n",
      "       │       \n",
      "q_3: ──┼────■──\n",
      "       │    │  \n",
      "q_4: ──┼────┼──\n",
      "     ┌─┴─┐┌─┴─┐\n",
      "q_5: ┤ X ├┤ X ├\n",
      "     └───┘└───┘\n",
      "     ┌───┐     ┌──────────────┐┌───┐┌─┐            \n",
      "q_0: ┤ H ├─────┤0             ├┤ H ├┤M├────────────\n",
      "     ├───┤     │              │├───┤└╥┘┌─┐         \n",
      "q_1: ┤ H ├─────┤1             ├┤ H ├─╫─┤M├─────────\n",
      "     ├───┤     │              │├───┤ ║ └╥┘┌─┐      \n",
      "q_2: ┤ H ├─────┤2             ├┤ H ├─╫──╫─┤M├──────\n",
      "     ├───┤     │  circuit-176 │├───┤ ║  ║ └╥┘┌─┐   \n",
      "q_3: ┤ H ├─────┤3             ├┤ H ├─╫──╫──╫─┤M├───\n",
      "     ├───┤     │              │├───┤ ║  ║  ║ └╥┘┌─┐\n",
      "q_4: ┤ H ├─────┤4             ├┤ H ├─╫──╫──╫──╫─┤M├\n",
      "     ├───┤┌───┐│              │└───┘ ║  ║  ║  ║ └╥┘\n",
      "q_5: ┤ X ├┤ H ├┤5             ├──────╫──╫──╫──╫──╫─\n",
      "     └───┘└───┘└──────────────┘      ║  ║  ║  ║  ║ \n",
      "c: 5/════════════════════════════════╩══╩══╩══╩══╩═\n",
      "                                     0  1  2  3  4 \n",
      "Counts: {'01010': 1024}\n"
     ]
    },
    {
     "data": {
      "image/png": "[encoded data removed]",
      "text/plain": [
       "<Figure size 640x480 with 1 Axes>"
      ]
     },
     "execution_count": 2,
     "metadata": {},
     "output_type": "execute_result"
    }
   ],
   "source": [
    "from qiskit import QuantumCircuit, transpile\n",
    "from qiskit_aer import Aer\n",
    "from qiskit.visualization import plot_histogram\n",
    "\n",
    "# Deutsch-Josa algorithm circuit\n",
    "def deutsch_josa_algorithm(oracle, n: int):\n",
    "    qc = QuantumCircuit(n + 1, n)\n",
    "    qc.x(n) # Initialize the ancilla qubit to |1>\n",
    "    qc.h(list(range(n + 1))) # Apply Hadamard gates to all qubits\n",
    "    qc.append(oracle, range(n + 1))  # Apply oracle\n",
    "    qc.h(list(range(n))) # Apply Hadamard gates to all qubits\n",
    "    qc.measure(range(n), range(n))\n",
    "    return qc\n",
    "\n",
    "# Berstein-Vazirani oracle generator\n",
    "def berstein_vazirani_oracle(case: str, n: int):\n",
    "    qc = QuantumCircuit(n + 1)\n",
    "    for i in range(len(case)):\n",
    "        if case[i] == '1':\n",
    "            qc.cx(i, n)\n",
    "    return qc\n",
    "\n",
    "# Example usage\n",
    "n = 5  # Number of qubits\n",
    "case = \"01010\"\n",
    "\n",
    "oracle = berstein_vazirani_oracle(case, n)\n",
    "qc = deutsch_josa_algorithm(oracle, n)\n",
    "print(oracle.draw(\"text\"))\n",
    "print(qc.draw(\"text\"))\n",
    "\n",
    "# Run on simulator\n",
    "sim = Aer.get_backend(\"aer_simulator\")\n",
    "tqc = transpile(qc, sim)\n",
    "result = sim.run(tqc, shots = 1024).result()\n",
    "counts = result.get_counts()\n",
    "print(\"Counts:\", counts)\n",
    "plot_histogram(counts, title=\"Example: \"+ case)"
   ]
  },
  {
   "cell_type": "markdown",
   "id": "34660ff5",
   "metadata": {},
   "source": [
    "As, expected Deutsch-Josa circuit solves Berstein-Vazirani problem in one query and finds it with 100% accuracy."
   ]
  },
  {
   "cell_type": "markdown",
   "id": "427b80e7",
   "metadata": {},
   "source": []
  }
 ],
 "metadata": {
  "kernelspec": {
   "display_name": "Python 3",
   "language": "python",
   "name": "python3"
  },
  "language_info": {
   "codemirror_mode": {
    "name": "ipython",
    "version": 3
   },
   "file_extension": ".py",
   "mimetype": "text/x-python",
   "name": "python",
   "nbconvert_exporter": "python",
   "pygments_lexer": "ipython3",
   "version": "3.11.9"
  }
 },
 "nbformat": 4,
 "nbformat_minor": 5
}
